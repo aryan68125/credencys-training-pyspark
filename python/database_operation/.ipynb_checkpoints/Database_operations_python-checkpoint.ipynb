{
 "cells": [
  {
   "cell_type": "markdown",
   "id": "e142e1a8-390f-47c5-ac9d-ae67ee25158c",
   "metadata": {},
   "source": [
    "# This Notebook contains the python code that performs operations on database"
   ]
  },
  {
   "cell_type": "markdown",
   "id": "d9055ae6-4284-45d8-adcf-193daa878c8c",
   "metadata": {},
   "source": [
    "## Import all necessary libraries"
   ]
  },
  {
   "cell_type": "code",
   "execution_count": 12,
   "id": "2810275e-9049-4922-87c4-5e20adbac348",
   "metadata": {},
   "outputs": [],
   "source": [
    "# import data manipulation libraries use in data science and analytics\n",
    "import numpy as np\n",
    "import pandas as pd \n",
    "from matplotlib import pyplot as plt\n",
    "import itertools\n",
    "\n",
    "# This library allows us to display data in table in html format with relying on pandas\n",
    "from IPython.display import display, HTML\n",
    "\n",
    "# import psycopg library to talk to the database\n",
    "import psycopg2\n",
    "\n",
    "# import pydaantic for type checking and insuring typesafety \n",
    "from pydantic import (BaseModel, EmailStr, Field, SecretStr, ValidationError)\n",
    "from typing import (Optional, Any, Dict, List, Tuple)\n",
    "\n",
    "# import sqlalchemy to manage database connections and carry out db operations\n",
    "from sqlalchemy import (create_engine, inspect, text)\n",
    "from sqlalchemy.engine import Engine\n",
    "\n",
    "# importing python-decouple to help us access the secrets from a .env file\n",
    "from decouple import (config, Config, RepositoryEnv)\n",
    "# import path lib to set path for the env file\n",
    "from pathlib import Path"
   ]
  },
  {
   "cell_type": "markdown",
   "id": "625a0888-f9d7-40af-88aa-5193b97086eb",
   "metadata": {},
   "source": [
    "## Create database connection model and function to validate the database parameters. \n",
    "I could have fed the database creds to the function directly like people normally do, but I chose to use pydantic to enforce type safety and to make sure once the parameters are set they are not changed during the execution of the program. <br>\n",
    "- ```frozen=True``` : When frozen is set to ```True``` it tells pydantic that once the parameters are set they are not allowed to change.\n",
    "- ```default=None``` : If suppose nothing is passed in any of the field then None will be passed automatically since I set None to be the default value."
   ]
  },
  {
   "cell_type": "code",
   "execution_count": 13,
   "id": "f067577e-1243-4cb0-9298-fd1f6e9bb3ac",
   "metadata": {},
   "outputs": [],
   "source": [
    "# A pydantic model for database connection\n",
    "# The reason I am using frozen in the fields in this model is because I don't want the fields to change after its setup for the first time\n",
    "class DbConnManagerModel (BaseModel):\n",
    "    host : str = Field(default=None, examples=[\"localhost\"], frozen=True)\n",
    "    database : str = Field(default=None, examples=[\"db_name\"], frozen=True)\n",
    "    user : str = Field(default=None, examples=[\"username\"], frozen=True)\n",
    "    password : str = Field(default=None, examples=[\"your_password\"], frozen=True)\n",
    "    port : int = Field(default=None, examples=[5432], frozen=True)           "
   ]
  },
  {
   "cell_type": "markdown",
   "id": "3975be85-5645-4ba8-8ca5-d54484673593",
   "metadata": {},
   "source": [
    "## Tell jupyter notebook where to look for .env file"
   ]
  },
  {
   "cell_type": "markdown",
   "id": "17f8da71-e100-4526-b7a8-f3c59bfeaec6",
   "metadata": {},
   "source": [
    "Here I will have to tell jupyter notebook where to look for the env file otherwise it won't know from where should it get the credentials for the database.\n",
    "### Explaination : \n",
    "#### RepositoryEnv:\n",
    "- This comes from the ```python-decouple``` library.\n",
    "- This library knows how to read a ```.env``` file.\n",
    "- It parses through the ```.env``` file and makes the key-value pair available.\n",
    "#### Config:\n",
    "- This ```Config``` library comes from ```python-decouple``` library.\n",
    "- ```Config``` is a wrapper around different configuration sources like (```.env``` files)\n",
    "- When I created ```Config(RepositoryEnv(env_path))``` I am telling it to load configuration values from the given ```.env``` file (via ```RepositoryEnv```)"
   ]
  },
  {
   "cell_type": "markdown",
   "id": "f68e4484-63a3-4ef7-93a6-63b9659c4802",
   "metadata": {},
   "source": [
    "### **NOTICE :** \n",
    "If your os platform is windows and you have created an .env file using file explorer like what I used to do in linux then windows has a tendency adding ```.text``` after the env file so your env file becomes like this ```.env.txt```. Beware of this when trying to use windows file exporer to create an env file. Use Vs code or jupyter notebook instead to create a ```.env``` file. <br>\n",
    "I will have to look into it a bit more no biggy."
   ]
  },
  {
   "cell_type": "code",
   "execution_count": 14,
   "id": "2bd5d20b-dec2-451c-a899-2e58f7f2e6f7",
   "metadata": {},
   "outputs": [],
   "source": [
    "# The path below is windows specific\n",
    "# env_path = Path(\"D:/training/credencys-training-pyspark/python/database_operation/.env\")\n",
    "# The path below is an arch linux specific path\n",
    "env_path = Path(\"/home/aditya/github/credencys-training-pyspark/python/database_operation/.env\")\n",
    "config = Config(RepositoryEnv(env_path))\n",
    "\n",
    "# for debugging purposes \n",
    "# I wrote this code when I was trying to find out the reasons for my changes not being saved by the jupyter notebook.\n",
    "import os\n",
    "# The path below is windows specific\n",
    "# os.path.exists(r\"D:\\training\\credencys-training-pyspark\\python\\database_operation\")"
   ]
  },
  {
   "cell_type": "markdown",
   "id": "447c48d8-ce74-42bc-bc3b-c7f77944c2b3",
   "metadata": {},
   "source": [
    "## Create a database connection using sql alchemy and create a connection object"
   ]
  },
  {
   "cell_type": "code",
   "execution_count": 15,
   "id": "c3a27591-05f8-4775-9f95-e1d929e96a52",
   "metadata": {},
   "outputs": [
    {
     "name": "stdout",
     "output_type": "stream",
     "text": [
      "DBConnObj : host='localhost' database='training' user='postgres' password='1212' port=5432\n"
     ]
    }
   ],
   "source": [
    "# get the database connection prameters from the .env file and create a dictionary out of it\n",
    "db_connection_params = {\n",
    "    \"host\":config('host'),\n",
    "    \"database\":config('database'),\n",
    "    \"user\":config('user'),\n",
    "    \"password\":config('password'),\n",
    "    \"port\":config('port'),\n",
    "}\n",
    "\n",
    "# create a function to manage database connection\n",
    "def database_engine(model_config:DbConnManagerModel) -> Engine:\n",
    "    try:\n",
    "        # validate connection parameters before creating a database connection object\n",
    "        DBConnObj = DbConnManagerModel.model_validate(db_connection_params)\n",
    "        print(f\"DBConnObj : {DBConnObj}\")\n",
    "    \n",
    "        # create a database engine\n",
    "        engine = create_engine(\n",
    "            f\"postgresql+psycopg2://{DBConnObj.user}:{DBConnObj.password}@{DBConnObj.host}:{DBConnObj.port}/{DBConnObj.database}\"\n",
    "        )\n",
    "        return engine\n",
    "    except Exception as e:\n",
    "        raise RuntimeError(f\"failed to make connection with the database : {e}\")\n",
    "\n",
    "# create an databse engine object\n",
    "engine_obj = database_engine(db_connection_params)"
   ]
  },
  {
   "cell_type": "markdown",
   "id": "97eed4b3-c7f8-423a-a47b-99d27c82546f",
   "metadata": {},
   "source": [
    "## Create a table in the database"
   ]
  },
  {
   "cell_type": "markdown",
   "id": "9c71f651-676b-4958-abe9-052578f17558",
   "metadata": {},
   "source": [
    "### Method 1 : Create the table using raw sql query without using sql alchemy models"
   ]
  },
  {
   "cell_type": "code",
   "execution_count": null,
   "id": "499630c3-6a3a-4db9-b5d1-6519985d3371",
   "metadata": {},
   "outputs": [],
   "source": []
  },
  {
   "cell_type": "markdown",
   "id": "7153af6b-458a-46d6-a15a-ecb597311edb",
   "metadata": {},
   "source": [
    "## Read a Table from the database table"
   ]
  },
  {
   "cell_type": "markdown",
   "id": "38280a8e-a5cb-4f16-9d22-cf9a388dad43",
   "metadata": {},
   "source": [
    "### Create a function to display data \n",
    "This function will be responsible to display the incoming data from the database in a table in jupyter notebook using html and css for this I am using IPython\n",
    "- The reason I am going to display data by manually creating table in html and inserting it in this notebook's output window using IPython library instead of using pandas because I want to fire up raw sql queries and I don't want to rely on panda's function to carry out sql operations in the database. I wanted to do it manually using sqlAlchemy.\n",
    "\n",
    "### Explaination : \n",
    "- ```display(HTML(html))``` :\n",
    "    - ```HTML(html)``` → takes the raw HTML string and tells Jupyter: “Render this as HTML, not plain text.”\n",
    "    - ```display(...)``` → is the IPython/Jupyter function that actually shows the formatted output in the notebook cell output area. Without this, you’d just see the raw string like."
   ]
  },
  {
   "cell_type": "code",
   "execution_count": 8,
   "id": "741a28e7-2e3e-4745-bfcb-a56316354f79",
   "metadata": {},
   "outputs": [],
   "source": [
    "# Create a function which is use the data returned by the \"read_db_table_data\" function\n",
    "# to display the data nicely in a table using html code \n",
    "class DisplayDataModel(BaseModel):\n",
    "    headers : List[str]\n",
    "    rows : List[Tuple[Any,...]]\n",
    "    \n",
    "def display_data(display_model_config:DisplayDataModel) -> None:\n",
    "    html = \"<table border='1' style='border-collapse: collapse;'>\"\n",
    "    # Header row\n",
    "    html += \"<tr><th>S.no</th>\" + \"\".join([f\"<th>{h}</th>\" for h in display_model_config.headers]) + \"</tr>\"\n",
    "    # Data rows\n",
    "    # using enumerate to get key value pairs on serial no and the actual data\n",
    "    for i, row in enumerate(display_model_config.rows,start=1):  # limit rows for readability\n",
    "        html += f\"<tr><td>{i}</td>\" + \"\".join([f\"<td>{col}</td>\" for col in row]) + \"</tr>\"\n",
    "    html += \"</table>\"\n",
    "    display(HTML(html))"
   ]
  },
  {
   "cell_type": "markdown",
   "id": "3793f5e3-1c52-4829-827d-8eb009c16010",
   "metadata": {},
   "source": [
    "### Create a function to read data from the database using \n",
    "#### Explaination : \n",
    "```python\n",
    "model_config = {\n",
    "        \"arbitrary_types_allowed\":True\n",
    "    }\n",
    "``` \n",
    "\n",
    "<br>\n",
    "\n",
    "- The reason I have to use ```model_config``` to set ```arbitrary_types_allowed``` flag to ```True``` to avoid error raiseed by pydantic saying ```RuntimeError: Unable to validate field \"engine\"```\n",
    "- This tells pydantic to accept the object as it is and don't be alarmed by just accept it as it is."
   ]
  },
  {
   "cell_type": "code",
   "execution_count": 9,
   "id": "c8158b76-6916-4a54-97fa-b80da8f54326",
   "metadata": {},
   "outputs": [],
   "source": [
    "# Created a pydantic model.\n",
    "# This model is used to validate the parameters required to read the data from a table from the database\n",
    "class ReadDbTableModel(BaseModel):\n",
    "    table_name:str=Field(default=None)\n",
    "    columns:List[str]=Field(default=[])\n",
    "    engine:Engine\n",
    "    max_rows : Optional[int] = Field(default=20)\n",
    "    model_config = {\n",
    "        \"arbitrary_types_allowed\":True\n",
    "    }\n",
    "    \n",
    "# Create a function to read the data from the table in the database\n",
    "def read_db_table_data(table_model_config:ReadDbTableModel) -> tuple[list[str], list[tuple[Any,...]]]:\n",
    "    try:\n",
    "        with table_model_config.engine.connect() as conn:\n",
    "            if table_model_config.columns:\n",
    "                query = text(f\"SELECT {', '.join(table_model_config.columns)} FROM {table_model_config.table_name} LIMIT {table_model_config.max_rows}\")\n",
    "            else:\n",
    "                query = text(f\"SELECT * FROM {table_model_config.table_name} LIMIT {table_model_config.max_rows}\")\n",
    "            result = conn.execute(query)\n",
    "            rows_data = result.fetchall()\n",
    "            headers_data = result.keys()\n",
    "        return headers_data,rows_data\n",
    "    except Exception as e:\n",
    "        raise RuntimeError(f\"Cannot read the data from the table {table_model_config.table_name} : {e}\")"
   ]
  },
  {
   "cell_type": "markdown",
   "id": "7246190e-f2f0-481f-ace1-155a32dcdae2",
   "metadata": {},
   "source": [
    "### NOTICE : \n",
    "If you are using passord type field in your pydantic model then using SecretStr is not a good idea in this case. Since we want to make connection to the database we have to use str instead to be able to successfully make a connection to the database otherwise we will get the error : \"Authentication failed unable login into postgres\""
   ]
  },
  {
   "cell_type": "markdown",
   "id": "ee7af5f3-0955-48ed-9270-0020d50ff0cb",
   "metadata": {},
   "source": [
    "### Get all the columns from the table "
   ]
  },
  {
   "cell_type": "code",
   "execution_count": 11,
   "id": "1b42f878-8630-4497-b1f4-8d6ac42210cd",
   "metadata": {},
   "outputs": [
    {
     "ename": "RuntimeError",
     "evalue": "Cannot read the data from the table customers : (psycopg2.errors.UndefinedTable) relation \"customers\" does not exist\nLINE 1: SELECT * FROM customers LIMIT 20\n                      ^\n\n[SQL: SELECT * FROM customers LIMIT 20]\n(Background on this error at: https://sqlalche.me/e/20/f405)",
     "output_type": "error",
     "traceback": [
      "\u001b[31m---------------------------------------------------------------------------\u001b[39m",
      "\u001b[31mUndefinedTable\u001b[39m                            Traceback (most recent call last)",
      "\u001b[36mFile \u001b[39m\u001b[32m~/.local/lib/python3.13/site-packages/sqlalchemy/engine/base.py:1967\u001b[39m, in \u001b[36mConnection._exec_single_context\u001b[39m\u001b[34m(self, dialect, context, statement, parameters)\u001b[39m\n\u001b[32m   1966\u001b[39m     \u001b[38;5;28;01mif\u001b[39;00m \u001b[38;5;129;01mnot\u001b[39;00m evt_handled:\n\u001b[32m-> \u001b[39m\u001b[32m1967\u001b[39m         \u001b[38;5;28;43mself\u001b[39;49m\u001b[43m.\u001b[49m\u001b[43mdialect\u001b[49m\u001b[43m.\u001b[49m\u001b[43mdo_execute\u001b[49m\u001b[43m(\u001b[49m\n\u001b[32m   1968\u001b[39m \u001b[43m            \u001b[49m\u001b[43mcursor\u001b[49m\u001b[43m,\u001b[49m\u001b[43m \u001b[49m\u001b[43mstr_statement\u001b[49m\u001b[43m,\u001b[49m\u001b[43m \u001b[49m\u001b[43meffective_parameters\u001b[49m\u001b[43m,\u001b[49m\u001b[43m \u001b[49m\u001b[43mcontext\u001b[49m\n\u001b[32m   1969\u001b[39m \u001b[43m        \u001b[49m\u001b[43m)\u001b[49m\n\u001b[32m   1971\u001b[39m \u001b[38;5;28;01mif\u001b[39;00m \u001b[38;5;28mself\u001b[39m._has_events \u001b[38;5;129;01mor\u001b[39;00m \u001b[38;5;28mself\u001b[39m.engine._has_events:\n",
      "\u001b[36mFile \u001b[39m\u001b[32m~/.local/lib/python3.13/site-packages/sqlalchemy/engine/default.py:951\u001b[39m, in \u001b[36mDefaultDialect.do_execute\u001b[39m\u001b[34m(self, cursor, statement, parameters, context)\u001b[39m\n\u001b[32m    950\u001b[39m \u001b[38;5;28;01mdef\u001b[39;00m\u001b[38;5;250m \u001b[39m\u001b[34mdo_execute\u001b[39m(\u001b[38;5;28mself\u001b[39m, cursor, statement, parameters, context=\u001b[38;5;28;01mNone\u001b[39;00m):\n\u001b[32m--> \u001b[39m\u001b[32m951\u001b[39m     \u001b[43mcursor\u001b[49m\u001b[43m.\u001b[49m\u001b[43mexecute\u001b[49m\u001b[43m(\u001b[49m\u001b[43mstatement\u001b[49m\u001b[43m,\u001b[49m\u001b[43m \u001b[49m\u001b[43mparameters\u001b[49m\u001b[43m)\u001b[49m\n",
      "\u001b[31mUndefinedTable\u001b[39m: relation \"customers\" does not exist\nLINE 1: SELECT * FROM customers LIMIT 20\n                      ^\n",
      "\nThe above exception was the direct cause of the following exception:\n",
      "\u001b[31mProgrammingError\u001b[39m                          Traceback (most recent call last)",
      "\u001b[36mCell\u001b[39m\u001b[36m \u001b[39m\u001b[32mIn[9]\u001b[39m\u001b[32m, line 20\u001b[39m, in \u001b[36mread_db_table_data\u001b[39m\u001b[34m(table_model_config)\u001b[39m\n\u001b[32m     19\u001b[39m     query = text(\u001b[33mf\u001b[39m\u001b[33m\"\u001b[39m\u001b[33mSELECT * FROM \u001b[39m\u001b[38;5;132;01m{\u001b[39;00mtable_model_config.table_name\u001b[38;5;132;01m}\u001b[39;00m\u001b[33m LIMIT \u001b[39m\u001b[38;5;132;01m{\u001b[39;00mtable_model_config.max_rows\u001b[38;5;132;01m}\u001b[39;00m\u001b[33m\"\u001b[39m)\n\u001b[32m---> \u001b[39m\u001b[32m20\u001b[39m result = \u001b[43mconn\u001b[49m\u001b[43m.\u001b[49m\u001b[43mexecute\u001b[49m\u001b[43m(\u001b[49m\u001b[43mquery\u001b[49m\u001b[43m)\u001b[49m\n\u001b[32m     21\u001b[39m rows_data = result.fetchall()\n",
      "\u001b[36mFile \u001b[39m\u001b[32m~/.local/lib/python3.13/site-packages/sqlalchemy/engine/base.py:1419\u001b[39m, in \u001b[36mConnection.execute\u001b[39m\u001b[34m(self, statement, parameters, execution_options)\u001b[39m\n\u001b[32m   1418\u001b[39m \u001b[38;5;28;01melse\u001b[39;00m:\n\u001b[32m-> \u001b[39m\u001b[32m1419\u001b[39m     \u001b[38;5;28;01mreturn\u001b[39;00m \u001b[43mmeth\u001b[49m\u001b[43m(\u001b[49m\n\u001b[32m   1420\u001b[39m \u001b[43m        \u001b[49m\u001b[38;5;28;43mself\u001b[39;49m\u001b[43m,\u001b[49m\n\u001b[32m   1421\u001b[39m \u001b[43m        \u001b[49m\u001b[43mdistilled_parameters\u001b[49m\u001b[43m,\u001b[49m\n\u001b[32m   1422\u001b[39m \u001b[43m        \u001b[49m\u001b[43mexecution_options\u001b[49m\u001b[43m \u001b[49m\u001b[38;5;129;43;01mor\u001b[39;49;00m\u001b[43m \u001b[49m\u001b[43mNO_OPTIONS\u001b[49m\u001b[43m,\u001b[49m\n\u001b[32m   1423\u001b[39m \u001b[43m    \u001b[49m\u001b[43m)\u001b[49m\n",
      "\u001b[36mFile \u001b[39m\u001b[32m~/.local/lib/python3.13/site-packages/sqlalchemy/sql/elements.py:526\u001b[39m, in \u001b[36mClauseElement._execute_on_connection\u001b[39m\u001b[34m(self, connection, distilled_params, execution_options)\u001b[39m\n\u001b[32m    525\u001b[39m         \u001b[38;5;28;01massert\u001b[39;00m \u001b[38;5;28misinstance\u001b[39m(\u001b[38;5;28mself\u001b[39m, Executable)\n\u001b[32m--> \u001b[39m\u001b[32m526\u001b[39m     \u001b[38;5;28;01mreturn\u001b[39;00m \u001b[43mconnection\u001b[49m\u001b[43m.\u001b[49m\u001b[43m_execute_clauseelement\u001b[49m\u001b[43m(\u001b[49m\n\u001b[32m    527\u001b[39m \u001b[43m        \u001b[49m\u001b[38;5;28;43mself\u001b[39;49m\u001b[43m,\u001b[49m\u001b[43m \u001b[49m\u001b[43mdistilled_params\u001b[49m\u001b[43m,\u001b[49m\u001b[43m \u001b[49m\u001b[43mexecution_options\u001b[49m\n\u001b[32m    528\u001b[39m \u001b[43m    \u001b[49m\u001b[43m)\u001b[49m\n\u001b[32m    529\u001b[39m \u001b[38;5;28;01melse\u001b[39;00m:\n",
      "\u001b[36mFile \u001b[39m\u001b[32m~/.local/lib/python3.13/site-packages/sqlalchemy/engine/base.py:1641\u001b[39m, in \u001b[36mConnection._execute_clauseelement\u001b[39m\u001b[34m(self, elem, distilled_parameters, execution_options)\u001b[39m\n\u001b[32m   1633\u001b[39m compiled_sql, extracted_params, cache_hit = elem._compile_w_cache(\n\u001b[32m   1634\u001b[39m     dialect=dialect,\n\u001b[32m   1635\u001b[39m     compiled_cache=compiled_cache,\n\u001b[32m   (...)\u001b[39m\u001b[32m   1639\u001b[39m     linting=\u001b[38;5;28mself\u001b[39m.dialect.compiler_linting | compiler.WARN_LINTING,\n\u001b[32m   1640\u001b[39m )\n\u001b[32m-> \u001b[39m\u001b[32m1641\u001b[39m ret = \u001b[38;5;28;43mself\u001b[39;49m\u001b[43m.\u001b[49m\u001b[43m_execute_context\u001b[49m\u001b[43m(\u001b[49m\n\u001b[32m   1642\u001b[39m \u001b[43m    \u001b[49m\u001b[43mdialect\u001b[49m\u001b[43m,\u001b[49m\n\u001b[32m   1643\u001b[39m \u001b[43m    \u001b[49m\u001b[43mdialect\u001b[49m\u001b[43m.\u001b[49m\u001b[43mexecution_ctx_cls\u001b[49m\u001b[43m.\u001b[49m\u001b[43m_init_compiled\u001b[49m\u001b[43m,\u001b[49m\n\u001b[32m   1644\u001b[39m \u001b[43m    \u001b[49m\u001b[43mcompiled_sql\u001b[49m\u001b[43m,\u001b[49m\n\u001b[32m   1645\u001b[39m \u001b[43m    \u001b[49m\u001b[43mdistilled_parameters\u001b[49m\u001b[43m,\u001b[49m\n\u001b[32m   1646\u001b[39m \u001b[43m    \u001b[49m\u001b[43mexecution_options\u001b[49m\u001b[43m,\u001b[49m\n\u001b[32m   1647\u001b[39m \u001b[43m    \u001b[49m\u001b[43mcompiled_sql\u001b[49m\u001b[43m,\u001b[49m\n\u001b[32m   1648\u001b[39m \u001b[43m    \u001b[49m\u001b[43mdistilled_parameters\u001b[49m\u001b[43m,\u001b[49m\n\u001b[32m   1649\u001b[39m \u001b[43m    \u001b[49m\u001b[43melem\u001b[49m\u001b[43m,\u001b[49m\n\u001b[32m   1650\u001b[39m \u001b[43m    \u001b[49m\u001b[43mextracted_params\u001b[49m\u001b[43m,\u001b[49m\n\u001b[32m   1651\u001b[39m \u001b[43m    \u001b[49m\u001b[43mcache_hit\u001b[49m\u001b[43m=\u001b[49m\u001b[43mcache_hit\u001b[49m\u001b[43m,\u001b[49m\n\u001b[32m   1652\u001b[39m \u001b[43m\u001b[49m\u001b[43m)\u001b[49m\n\u001b[32m   1653\u001b[39m \u001b[38;5;28;01mif\u001b[39;00m has_events:\n",
      "\u001b[36mFile \u001b[39m\u001b[32m~/.local/lib/python3.13/site-packages/sqlalchemy/engine/base.py:1846\u001b[39m, in \u001b[36mConnection._execute_context\u001b[39m\u001b[34m(self, dialect, constructor, statement, parameters, execution_options, *args, **kw)\u001b[39m\n\u001b[32m   1845\u001b[39m \u001b[38;5;28;01melse\u001b[39;00m:\n\u001b[32m-> \u001b[39m\u001b[32m1846\u001b[39m     \u001b[38;5;28;01mreturn\u001b[39;00m \u001b[38;5;28;43mself\u001b[39;49m\u001b[43m.\u001b[49m\u001b[43m_exec_single_context\u001b[49m\u001b[43m(\u001b[49m\n\u001b[32m   1847\u001b[39m \u001b[43m        \u001b[49m\u001b[43mdialect\u001b[49m\u001b[43m,\u001b[49m\u001b[43m \u001b[49m\u001b[43mcontext\u001b[49m\u001b[43m,\u001b[49m\u001b[43m \u001b[49m\u001b[43mstatement\u001b[49m\u001b[43m,\u001b[49m\u001b[43m \u001b[49m\u001b[43mparameters\u001b[49m\n\u001b[32m   1848\u001b[39m \u001b[43m    \u001b[49m\u001b[43m)\u001b[49m\n",
      "\u001b[36mFile \u001b[39m\u001b[32m~/.local/lib/python3.13/site-packages/sqlalchemy/engine/base.py:1986\u001b[39m, in \u001b[36mConnection._exec_single_context\u001b[39m\u001b[34m(self, dialect, context, statement, parameters)\u001b[39m\n\u001b[32m   1985\u001b[39m \u001b[38;5;28;01mexcept\u001b[39;00m \u001b[38;5;167;01mBaseException\u001b[39;00m \u001b[38;5;28;01mas\u001b[39;00m e:\n\u001b[32m-> \u001b[39m\u001b[32m1986\u001b[39m     \u001b[38;5;28;43mself\u001b[39;49m\u001b[43m.\u001b[49m\u001b[43m_handle_dbapi_exception\u001b[49m\u001b[43m(\u001b[49m\n\u001b[32m   1987\u001b[39m \u001b[43m        \u001b[49m\u001b[43me\u001b[49m\u001b[43m,\u001b[49m\u001b[43m \u001b[49m\u001b[43mstr_statement\u001b[49m\u001b[43m,\u001b[49m\u001b[43m \u001b[49m\u001b[43meffective_parameters\u001b[49m\u001b[43m,\u001b[49m\u001b[43m \u001b[49m\u001b[43mcursor\u001b[49m\u001b[43m,\u001b[49m\u001b[43m \u001b[49m\u001b[43mcontext\u001b[49m\n\u001b[32m   1988\u001b[39m \u001b[43m    \u001b[49m\u001b[43m)\u001b[49m\n\u001b[32m   1990\u001b[39m \u001b[38;5;28;01mreturn\u001b[39;00m result\n",
      "\u001b[36mFile \u001b[39m\u001b[32m~/.local/lib/python3.13/site-packages/sqlalchemy/engine/base.py:2355\u001b[39m, in \u001b[36mConnection._handle_dbapi_exception\u001b[39m\u001b[34m(self, e, statement, parameters, cursor, context, is_sub_exec)\u001b[39m\n\u001b[32m   2354\u001b[39m     \u001b[38;5;28;01massert\u001b[39;00m sqlalchemy_exception \u001b[38;5;129;01mis\u001b[39;00m \u001b[38;5;129;01mnot\u001b[39;00m \u001b[38;5;28;01mNone\u001b[39;00m\n\u001b[32m-> \u001b[39m\u001b[32m2355\u001b[39m     \u001b[38;5;28;01mraise\u001b[39;00m sqlalchemy_exception.with_traceback(exc_info[\u001b[32m2\u001b[39m]) \u001b[38;5;28;01mfrom\u001b[39;00m\u001b[38;5;250m \u001b[39m\u001b[34;01me\u001b[39;00m\n\u001b[32m   2356\u001b[39m \u001b[38;5;28;01melse\u001b[39;00m:\n",
      "\u001b[36mFile \u001b[39m\u001b[32m~/.local/lib/python3.13/site-packages/sqlalchemy/engine/base.py:1967\u001b[39m, in \u001b[36mConnection._exec_single_context\u001b[39m\u001b[34m(self, dialect, context, statement, parameters)\u001b[39m\n\u001b[32m   1966\u001b[39m     \u001b[38;5;28;01mif\u001b[39;00m \u001b[38;5;129;01mnot\u001b[39;00m evt_handled:\n\u001b[32m-> \u001b[39m\u001b[32m1967\u001b[39m         \u001b[38;5;28;43mself\u001b[39;49m\u001b[43m.\u001b[49m\u001b[43mdialect\u001b[49m\u001b[43m.\u001b[49m\u001b[43mdo_execute\u001b[49m\u001b[43m(\u001b[49m\n\u001b[32m   1968\u001b[39m \u001b[43m            \u001b[49m\u001b[43mcursor\u001b[49m\u001b[43m,\u001b[49m\u001b[43m \u001b[49m\u001b[43mstr_statement\u001b[49m\u001b[43m,\u001b[49m\u001b[43m \u001b[49m\u001b[43meffective_parameters\u001b[49m\u001b[43m,\u001b[49m\u001b[43m \u001b[49m\u001b[43mcontext\u001b[49m\n\u001b[32m   1969\u001b[39m \u001b[43m        \u001b[49m\u001b[43m)\u001b[49m\n\u001b[32m   1971\u001b[39m \u001b[38;5;28;01mif\u001b[39;00m \u001b[38;5;28mself\u001b[39m._has_events \u001b[38;5;129;01mor\u001b[39;00m \u001b[38;5;28mself\u001b[39m.engine._has_events:\n",
      "\u001b[36mFile \u001b[39m\u001b[32m~/.local/lib/python3.13/site-packages/sqlalchemy/engine/default.py:951\u001b[39m, in \u001b[36mDefaultDialect.do_execute\u001b[39m\u001b[34m(self, cursor, statement, parameters, context)\u001b[39m\n\u001b[32m    950\u001b[39m \u001b[38;5;28;01mdef\u001b[39;00m\u001b[38;5;250m \u001b[39m\u001b[34mdo_execute\u001b[39m(\u001b[38;5;28mself\u001b[39m, cursor, statement, parameters, context=\u001b[38;5;28;01mNone\u001b[39;00m):\n\u001b[32m--> \u001b[39m\u001b[32m951\u001b[39m     \u001b[43mcursor\u001b[49m\u001b[43m.\u001b[49m\u001b[43mexecute\u001b[49m\u001b[43m(\u001b[49m\u001b[43mstatement\u001b[49m\u001b[43m,\u001b[49m\u001b[43m \u001b[49m\u001b[43mparameters\u001b[49m\u001b[43m)\u001b[49m\n",
      "\u001b[31mProgrammingError\u001b[39m: (psycopg2.errors.UndefinedTable) relation \"customers\" does not exist\nLINE 1: SELECT * FROM customers LIMIT 20\n                      ^\n\n[SQL: SELECT * FROM customers LIMIT 20]\n(Background on this error at: https://sqlalche.me/e/20/f405)",
      "\nDuring handling of the above exception, another exception occurred:\n",
      "\u001b[31mRuntimeError\u001b[39m                              Traceback (most recent call last)",
      "\u001b[36mCell\u001b[39m\u001b[36m \u001b[39m\u001b[32mIn[11]\u001b[39m\u001b[32m, line 2\u001b[39m\n\u001b[32m      1\u001b[39m config_read_customers_table = ReadDbTableModel(table_name=\u001b[33m\"\u001b[39m\u001b[33mcustomers\u001b[39m\u001b[33m\"\u001b[39m, engine=engine_obj)\n\u001b[32m----> \u001b[39m\u001b[32m2\u001b[39m headers_data, rows_data = \u001b[43mread_db_table_data\u001b[49m\u001b[43m(\u001b[49m\u001b[43mconfig_read_customers_table\u001b[49m\u001b[43m)\u001b[49m\n\u001b[32m      3\u001b[39m display_obj = DisplayDataModel(headers=headers_data, rows=rows_data)\n\u001b[32m      4\u001b[39m display_data(display_obj)\n",
      "\u001b[36mCell\u001b[39m\u001b[36m \u001b[39m\u001b[32mIn[9]\u001b[39m\u001b[32m, line 25\u001b[39m, in \u001b[36mread_db_table_data\u001b[39m\u001b[34m(table_model_config)\u001b[39m\n\u001b[32m     23\u001b[39m     \u001b[38;5;28;01mreturn\u001b[39;00m headers_data,rows_data\n\u001b[32m     24\u001b[39m \u001b[38;5;28;01mexcept\u001b[39;00m \u001b[38;5;167;01mException\u001b[39;00m \u001b[38;5;28;01mas\u001b[39;00m e:\n\u001b[32m---> \u001b[39m\u001b[32m25\u001b[39m     \u001b[38;5;28;01mraise\u001b[39;00m \u001b[38;5;167;01mRuntimeError\u001b[39;00m(\u001b[33mf\u001b[39m\u001b[33m\"\u001b[39m\u001b[33mCannot read the data from the table \u001b[39m\u001b[38;5;132;01m{\u001b[39;00mtable_model_config.table_name\u001b[38;5;132;01m}\u001b[39;00m\u001b[33m : \u001b[39m\u001b[38;5;132;01m{\u001b[39;00me\u001b[38;5;132;01m}\u001b[39;00m\u001b[33m\"\u001b[39m)\n",
      "\u001b[31mRuntimeError\u001b[39m: Cannot read the data from the table customers : (psycopg2.errors.UndefinedTable) relation \"customers\" does not exist\nLINE 1: SELECT * FROM customers LIMIT 20\n                      ^\n\n[SQL: SELECT * FROM customers LIMIT 20]\n(Background on this error at: https://sqlalche.me/e/20/f405)"
     ]
    }
   ],
   "source": [
    "config_read_customers_table = ReadDbTableModel(table_name=\"customers\", engine=engine_obj)\n",
    "headers_data, rows_data = read_db_table_data(config_read_customers_table)\n",
    "display_obj = DisplayDataModel(headers=headers_data, rows=rows_data)\n",
    "display_data(display_obj)"
   ]
  },
  {
   "cell_type": "markdown",
   "id": "6ff2559a-f4ba-4c53-8de7-e980a9a7546d",
   "metadata": {},
   "source": [
    "### Get selected columns from the table "
   ]
  },
  {
   "cell_type": "code",
   "execution_count": 22,
   "id": "28f39ce5-7b05-4f1e-b8bb-49ec5eab4037",
   "metadata": {},
   "outputs": [
    {
     "data": {
      "text/html": [
       "<table border='1' style='border-collapse: collapse;'><tr><th>S.no</th><th>city</th><th>state_province</th></tr><tr><td>1</td><td>Naperville</td><td>Illinois</td></tr><tr><td>2</td><td>Henderson</td><td>Kentucky</td></tr><tr><td>3</td><td>Los Angeles</td><td>California</td></tr><tr><td>4</td><td>Huntsville</td><td>Texas</td></tr><tr><td>5</td><td>Laredo</td><td>Texas</td></tr><tr><td>6</td><td>Springfield</td><td>Virginia</td></tr><tr><td>7</td><td>San Francisco</td><td>California</td></tr><tr><td>8</td><td>Bossier City</td><td>Louisiana</td></tr><tr><td>9</td><td>Mount Pleasant</td><td>South Carolina</td></tr><tr><td>10</td><td>Newark</td><td>Ohio</td></tr><tr><td>11</td><td>Philadelphia</td><td>Pennsylvania</td></tr><tr><td>12</td><td>Roswell</td><td>Georgia</td></tr><tr><td>13</td><td>Philadelphia</td><td>Pennsylvania</td></tr><tr><td>14</td><td>Scottsdale</td><td>Arizona</td></tr><tr><td>15</td><td>Miami</td><td>Florida</td></tr><tr><td>16</td><td>Las Vegas</td><td>Nevada</td></tr><tr><td>17</td><td>Lafayette</td><td>Indiana</td></tr><tr><td>18</td><td>Alexandria</td><td>Virginia</td></tr><tr><td>19</td><td>San Diego</td><td>California</td></tr><tr><td>20</td><td>Green Bay</td><td>Wisconsin</td></tr></table>"
      ],
      "text/plain": [
       "<IPython.core.display.HTML object>"
      ]
     },
     "metadata": {},
     "output_type": "display_data"
    }
   ],
   "source": [
    "config_read_customers_table = ReadDbTableModel(table_name=\"customers\", engine=engine_obj\n",
    "                                               ,columns=[\"city\",\"state_province\"])\n",
    "headers_data, rows_data = read_db_table_data(config_read_customers_table)\n",
    "display_obj = DisplayDataModel(headers=headers_data, rows=rows_data)\n",
    "display_data(display_obj)"
   ]
  },
  {
   "cell_type": "markdown",
   "id": "af79ff45-45d1-4486-98bc-2eb52f3088cd",
   "metadata": {},
   "source": [
    "### Get data of 80 rows from the table"
   ]
  },
  {
   "cell_type": "code",
   "execution_count": 23,
   "id": "51a5c6ab-0553-4d6d-a29b-f1c2838f4aff",
   "metadata": {},
   "outputs": [
    {
     "data": {
      "text/html": [
       "<table border='1' style='border-collapse: collapse;'><tr><th>S.no</th><th>city</th><th>state_province</th></tr><tr><td>1</td><td>Naperville</td><td>Illinois</td></tr><tr><td>2</td><td>Henderson</td><td>Kentucky</td></tr><tr><td>3</td><td>Los Angeles</td><td>California</td></tr><tr><td>4</td><td>Huntsville</td><td>Texas</td></tr><tr><td>5</td><td>Laredo</td><td>Texas</td></tr><tr><td>6</td><td>Springfield</td><td>Virginia</td></tr><tr><td>7</td><td>San Francisco</td><td>California</td></tr><tr><td>8</td><td>Bossier City</td><td>Louisiana</td></tr><tr><td>9</td><td>Mount Pleasant</td><td>South Carolina</td></tr><tr><td>10</td><td>Newark</td><td>Ohio</td></tr><tr><td>11</td><td>Philadelphia</td><td>Pennsylvania</td></tr><tr><td>12</td><td>Roswell</td><td>Georgia</td></tr><tr><td>13</td><td>Philadelphia</td><td>Pennsylvania</td></tr><tr><td>14</td><td>Scottsdale</td><td>Arizona</td></tr><tr><td>15</td><td>Miami</td><td>Florida</td></tr><tr><td>16</td><td>Las Vegas</td><td>Nevada</td></tr><tr><td>17</td><td>Lafayette</td><td>Indiana</td></tr><tr><td>18</td><td>Alexandria</td><td>Virginia</td></tr><tr><td>19</td><td>San Diego</td><td>California</td></tr><tr><td>20</td><td>Green Bay</td><td>Wisconsin</td></tr><tr><td>21</td><td>Saint Petersburg</td><td>Florida</td></tr><tr><td>22</td><td>San Diego</td><td>California</td></tr><tr><td>23</td><td>Escondido</td><td>California</td></tr><tr><td>24</td><td>San Diego</td><td>California</td></tr><tr><td>25</td><td>North Las Vegas</td><td>Nevada</td></tr><tr><td>26</td><td>Columbia</td><td>Missouri</td></tr><tr><td>27</td><td>Seattle</td><td>Washington</td></tr><tr><td>28</td><td>Houston</td><td>Texas</td></tr><tr><td>29</td><td>Seattle</td><td>Washington</td></tr><tr><td>30</td><td>Arlington</td><td>Texas</td></tr><tr><td>31</td><td>Los Angeles</td><td>California</td></tr><tr><td>32</td><td>Richmond</td><td>Indiana</td></tr><tr><td>33</td><td>Woodstock</td><td>Illinois</td></tr><tr><td>34</td><td>Moreno Valley</td><td>California</td></tr><tr><td>35</td><td>El Paso</td><td>Texas</td></tr><tr><td>36</td><td>Medford</td><td>Oregon</td></tr><tr><td>37</td><td>El Paso</td><td>Texas</td></tr><tr><td>38</td><td>Houston</td><td>Texas</td></tr><tr><td>39</td><td>Seattle</td><td>Washington</td></tr><tr><td>40</td><td>New York City</td><td>New York</td></tr><tr><td>41</td><td>Elmhurst</td><td>Illinois</td></tr><tr><td>42</td><td>New York City</td><td>New York</td></tr><tr><td>43</td><td>Philadelphia</td><td>Pennsylvania</td></tr><tr><td>44</td><td>Columbus</td><td>Ohio</td></tr><tr><td>45</td><td>San Diego</td><td>California</td></tr><tr><td>46</td><td>Wilmington</td><td>North Carolina</td></tr><tr><td>47</td><td>Columbia</td><td>South Carolina</td></tr><tr><td>48</td><td>Margate</td><td>Florida</td></tr><tr><td>49</td><td>Yonkers</td><td>New York</td></tr><tr><td>50</td><td>Des Moines</td><td>Washington</td></tr><tr><td>51</td><td>Seattle</td><td>Washington</td></tr><tr><td>52</td><td>Royal Oak</td><td>Michigan</td></tr><tr><td>53</td><td>Denver</td><td>Colorado</td></tr><tr><td>54</td><td>Roseville</td><td>California</td></tr><tr><td>55</td><td>Huntington Beach</td><td>California</td></tr><tr><td>56</td><td>Chesapeake</td><td>Virginia</td></tr><tr><td>57</td><td>Logan</td><td>Utah</td></tr><tr><td>58</td><td>Chicago</td><td>Illinois</td></tr><tr><td>59</td><td>Tampa</td><td>Florida</td></tr><tr><td>60</td><td>Raleigh</td><td>North Carolina</td></tr><tr><td>61</td><td>Dallas</td><td>Texas</td></tr><tr><td>62</td><td>Lakeville</td><td>Minnesota</td></tr><tr><td>63</td><td>San Francisco</td><td>California</td></tr><tr><td>64</td><td>Hamilton</td><td>Ohio</td></tr><tr><td>65</td><td>Asheville</td><td>North Carolina</td></tr><tr><td>66</td><td>Knoxville</td><td>Tennessee</td></tr><tr><td>67</td><td>Tucson</td><td>Arizona</td></tr><tr><td>68</td><td>Delray Beach</td><td>Florida</td></tr><tr><td>69</td><td>Fresno</td><td>California</td></tr><tr><td>70</td><td>New York City</td><td>New York</td></tr><tr><td>71</td><td>San Francisco</td><td>California</td></tr><tr><td>72</td><td>Pomona</td><td>California</td></tr><tr><td>73</td><td>Los Angeles</td><td>California</td></tr><tr><td>74</td><td>Des Moines</td><td>Iowa</td></tr><tr><td>75</td><td>Springfield</td><td>Ohio</td></tr><tr><td>76</td><td>Brownsville</td><td>Texas</td></tr><tr><td>77</td><td>San Francisco</td><td>California</td></tr><tr><td>78</td><td>Seattle</td><td>Washington</td></tr><tr><td>79</td><td>New York City</td><td>New York</td></tr><tr><td>80</td><td>Apple Valley</td><td>Minnesota</td></tr></table>"
      ],
      "text/plain": [
       "<IPython.core.display.HTML object>"
      ]
     },
     "metadata": {},
     "output_type": "display_data"
    }
   ],
   "source": [
    "config_read_customers_table = ReadDbTableModel(table_name=\"customers\", engine=engine_obj\n",
    "                                               ,columns=[\"city\",\"state_province\"], max_rows=80)\n",
    "headers_data, rows_data = read_db_table_data(config_read_customers_table)\n",
    "display_obj = DisplayDataModel(headers=headers_data, rows=rows_data, max_rows=80)\n",
    "display_data(display_obj)"
   ]
  },
  {
   "cell_type": "markdown",
   "id": "35fdcdba-ba2f-401a-944a-5029e177159a",
   "metadata": {},
   "source": [
    "## Unable to save changes in the jupyter notebook file"
   ]
  },
  {
   "cell_type": "markdown",
   "id": "a8e9c1d2-f9a0-47e9-a7b4-e85fcc6304ea",
   "metadata": {},
   "source": [
    "I randomely faced an issue where I was not able to save any changes I made in my jupyter notebook. <br>\n",
    "\n",
    "Error message looks something like this : <br>\n",
    "```Unexpected error while saving file: python/database_operation/Database_operations_python.ipynb [Errno 22] Invalid argument: 'D:\\\\training\\\\credencys-training-pyspark\\\\python\\\\database_operation\\\\Database_operations_python.ipynb'```\n",
    "\n",
    "<br>\n",
    "\n",
    "I googled about this issue and found out :\n",
    "- I found out that windows doesn't allow you to make changes to a file if another program is using it. In my case this was irrelevant because only jupyter notebook was the only program accessing this file. I haven't opened this file on any other application.\n",
    "- I used this code to check if the file acutally exists or not in the directory where its supposed to be ```import os\n",
    "os.path.exists(r\"D:\\training\\credencys-training-pyspark\\python\\database_operation\")``` I got the result to be True.\n",
    "- I opened the directory in file manager where I noticed there were two temp files that were present in that directory. I simply deleted it. Deleting the temp files resolved this issue.\n",
    "\n",
    "<br>\n",
    "\n",
    "I still don't know why this glitch happened. I will look into it at a later date. This has never happend to be before when I used to use jupyter notebook on linux platforms. \n",
    "\n",
    "<br>\n",
    "\n",
    "**NOTICE:** It took a bit more time to resolve this issue and I found the solution by accident. "
   ]
  },
  {
   "cell_type": "code",
   "execution_count": null,
   "id": "07d8b3db-6076-4cc7-9e70-640f0cd77b57",
   "metadata": {},
   "outputs": [],
   "source": []
  },
  {
   "cell_type": "code",
   "execution_count": null,
   "id": "91671aa2-9f25-4985-b2dd-e0b14ea90e49",
   "metadata": {},
   "outputs": [],
   "source": []
  },
  {
   "cell_type": "code",
   "execution_count": null,
   "id": "e93826ed-bae6-42a9-aa01-c36aa150bb29",
   "metadata": {},
   "outputs": [],
   "source": []
  }
 ],
 "metadata": {
  "kernelspec": {
   "display_name": "Python 3 (ipykernel)",
   "language": "python",
   "name": "python3"
  },
  "language_info": {
   "codemirror_mode": {
    "name": "ipython",
    "version": 3
   },
   "file_extension": ".py",
   "mimetype": "text/x-python",
   "name": "python",
   "nbconvert_exporter": "python",
   "pygments_lexer": "ipython3",
   "version": "3.13.5"
  }
 },
 "nbformat": 4,
 "nbformat_minor": 5
}
