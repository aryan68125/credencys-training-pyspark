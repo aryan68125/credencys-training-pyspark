{
 "cells": [
  {
   "cell_type": "markdown",
   "id": "e142e1a8-390f-47c5-ac9d-ae67ee25158c",
   "metadata": {},
   "source": [
    "# This Notebook contains the python code that performs operations on database"
   ]
  },
  {
   "cell_type": "markdown",
   "id": "d9055ae6-4284-45d8-adcf-193daa878c8c",
   "metadata": {},
   "source": [
    "## Import all necessary libraries"
   ]
  },
  {
   "cell_type": "code",
   "execution_count": 5,
   "id": "2810275e-9049-4922-87c4-5e20adbac348",
   "metadata": {},
   "outputs": [],
   "source": [
    "# import data manipulation libraries use in data science and analytics\n",
    "import numpy as np\n",
    "import pandas as pd \n",
    "from matplotlib import pyplot as plt\n",
    "\n",
    "# import psycopg library to talk to the database\n",
    "import psycopg2\n",
    "\n",
    "# import pydaantic for type checking and insuring typesafety \n",
    "from pydantic import (BaseModel, EmailStr, Field, SecretStr, ValidationError)\n",
    "from typing import Optional"
   ]
  },
  {
   "cell_type": "code",
   "execution_count": 7,
   "id": "f067577e-1243-4cb0-9298-fd1f6e9bb3ac",
   "metadata": {},
   "outputs": [],
   "source": [
    "# A pydantic model for database connection\n",
    "# The reason I am using frozen in the fields in this model is because I don't want the fields to change after its setup for the first time\n",
    "class db_conn_manager_model(BaseModel):\n",
    "    host : str = Field(default=None, examples=[\"localhost\"], frozen=True)\n",
    "    database : str = Field(default=None, examples=[\"db_name\"], frozen=True)\n",
    "    user : str = Field(default=None, examples=[\"username\"], frozen=True)\n",
    "    password : str = Field(default=None, examples=[\"your_password\"], frozen=True)\n",
    "    port : int = Field(default=None, examples=[5432], frozen=True)"
   ]
  },
  {
   "cell_type": "code",
   "execution_count": 3,
   "id": "40e538dc-80c7-434b-a7eb-f914a7a90de4",
   "metadata": {},
   "outputs": [],
   "source": [
    "conn = psycopg2.connect(\n",
    "    host=\"localhost\",\n",
    "    database=\"training\",\n",
    "    user=\"postgres\",\n",
    "    password=\"1212\",\n",
    "    port=5432\n",
    ")\n",
    "conn\n",
    "\n",
    "def db_conn_manager():\n",
    "    \n",
    "\n",
    "# Open a cursor to perform database operations\n",
    "cur = conn.cursor()\n",
    "# Execute a command: create datacamp_courses table\n",
    "cur.execute(\"\"\"CREATE TABLE datacamp_courses(\n",
    "            course_id SERIAL PRIMARY KEY,\n",
    "            course_name VARCHAR (50) UNIQUE NOT NULL,\n",
    "            course_instructor VARCHAR (100) NOT NULL,\n",
    "            topic VARCHAR (20) NOT NULL);\n",
    "            \"\"\")\n",
    "# Make the changes to the database persistent\n",
    "conn.commit()\n",
    "# Close cursor and communication with the database\n",
    "cur.close()\n",
    "conn.close()"
   ]
  },
  {
   "cell_type": "code",
   "execution_count": null,
   "id": "91671aa2-9f25-4985-b2dd-e0b14ea90e49",
   "metadata": {},
   "outputs": [],
   "source": []
  }
 ],
 "metadata": {
  "kernelspec": {
   "display_name": "Python 3 (ipykernel)",
   "language": "python",
   "name": "python3"
  },
  "language_info": {
   "codemirror_mode": {
    "name": "ipython",
    "version": 3
   },
   "file_extension": ".py",
   "mimetype": "text/x-python",
   "name": "python",
   "nbconvert_exporter": "python",
   "pygments_lexer": "ipython3",
   "version": "3.13.7"
  }
 },
 "nbformat": 4,
 "nbformat_minor": 5
}
